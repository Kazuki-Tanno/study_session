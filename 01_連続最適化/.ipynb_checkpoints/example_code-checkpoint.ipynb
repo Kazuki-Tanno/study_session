{
 "cells": [
  {
   "cell_type": "code",
   "execution_count": 1,
   "metadata": {
    "ExecuteTime": {
     "end_time": "2020-05-20T10:09:11.233422Z",
     "start_time": "2020-05-20T10:09:09.891418Z"
    }
   },
   "outputs": [],
   "source": [
    "import numpy as np\n",
    "from scipy.optimize import minimize"
   ]
  },
  {
   "cell_type": "code",
   "execution_count": 2,
   "metadata": {
    "ExecuteTime": {
     "end_time": "2020-05-20T10:12:49.767141Z",
     "start_time": "2020-05-20T10:12:49.762174Z"
    }
   },
   "outputs": [],
   "source": [
    "def rosen(x):\n",
    "    \"\"\"\n",
    "    Rosenbrock関数. 最適化アルゴリズムのベンチマークとしてよく使われるらしい.\n",
    "    \n",
    "    Parameters\n",
    "    ----------\n",
    "    x : array like\n",
    "        n次元の引数\n",
    "    \n",
    "    Returns\n",
    "    ----------\n",
    "    answer : float\n",
    "    \"\"\"\n",
    "    \n",
    "    answer = sum(100.0 * (x[1:] - x[:-1]**2.0)**2.0 + (1 - x[:-1])**2 )\n",
    "    \n",
    "    return answer"
   ]
  },
  {
   "cell_type": "code",
   "execution_count": 3,
   "metadata": {
    "ExecuteTime": {
     "end_time": "2020-05-20T10:20:43.845072Z",
     "start_time": "2020-05-20T10:20:43.838961Z"
    }
   },
   "outputs": [],
   "source": [
    "def rosen_der(x):\n",
    "    \"\"\"\n",
    "    Rosenbrock関数の点xでの勾配ベクトル\n",
    "    \n",
    "    Parameters\n",
    "    ----------\n",
    "    x : array like\n",
    "        n次元の引数\n",
    "    \n",
    "    Returns\n",
    "    ----------\n",
    "    def : array like\n",
    "        n次元の勾配ベクトル\n",
    "    \"\"\"\n",
    "    \n",
    "    xm = x[1:-1]\n",
    "    xm_m1 = x[:-2]\n",
    "    xm_p1 = x[2:]\n",
    "    \n",
    "    der = np.zeros_like(x)\n",
    "    der[1:-1] = 200*(xm - xm_m1**2) - 400*(xm_p1 - xm**2)*xm - 2*(1 - xm)\n",
    "    der[0] = -400*x[0]*(x[1] - x[0]**2) - 2*(1 - x[0])\n",
    "    der[-1] = 200*(x[-1] - x[-2]**2)\n",
    "    \n",
    "    return der"
   ]
  },
  {
   "cell_type": "code",
   "execution_count": 4,
   "metadata": {
    "ExecuteTime": {
     "end_time": "2020-05-20T10:24:09.140842Z",
     "start_time": "2020-05-20T10:24:09.134852Z"
    }
   },
   "outputs": [],
   "source": [
    "def rosen_hess(x):\n",
    "    \"\"\"\n",
    "    Rosenbrock関数の点xでのヘッセ行列\n",
    "    \n",
    "    Parameters\n",
    "    ----------\n",
    "    x : array like\n",
    "        n次元の引数\n",
    "        \n",
    "    Returns\n",
    "    ----------\n",
    "    H : numpy.ndarray()\n",
    "        n*nのヘッセ行列\n",
    "    \"\"\"\n",
    "    \n",
    "    x = np.asarray(x)\n",
    "    H = np.diag(-400*x[:-1],1) - np.diag(400*x[:-1],-1)\n",
    "    \n",
    "    diagonal = np.zeros_like(x)\n",
    "    diagonal[0] = 1200*x[0]**2-400*x[1]+2\n",
    "    diagonal[-1] = 200\n",
    "    diagonal[1:-1] = 202 + 1200*x[1:-1]**2 - 400*x[2:]\n",
    "    \n",
    "    H = H + np.diag(diagonal)\n",
    "    \n",
    "    return H"
   ]
  },
  {
   "cell_type": "code",
   "execution_count": 5,
   "metadata": {
    "ExecuteTime": {
     "end_time": "2020-05-20T10:24:23.608431Z",
     "start_time": "2020-05-20T10:24:23.605758Z"
    }
   },
   "outputs": [],
   "source": [
    "x = np.array([2,3])"
   ]
  },
  {
   "cell_type": "code",
   "execution_count": null,
   "metadata": {},
   "outputs": [],
   "source": []
  }
 ],
 "metadata": {
  "kernelspec": {
   "display_name": "Python 3",
   "language": "python",
   "name": "python3"
  },
  "language_info": {
   "codemirror_mode": {
    "name": "ipython",
    "version": 3
   },
   "file_extension": ".py",
   "mimetype": "text/x-python",
   "name": "python",
   "nbconvert_exporter": "python",
   "pygments_lexer": "ipython3",
   "version": "3.7.4"
  },
  "toc": {
   "base_numbering": 1,
   "nav_menu": {},
   "number_sections": true,
   "sideBar": true,
   "skip_h1_title": false,
   "title_cell": "Table of Contents",
   "title_sidebar": "Contents",
   "toc_cell": false,
   "toc_position": {},
   "toc_section_display": true,
   "toc_window_display": false
  }
 },
 "nbformat": 4,
 "nbformat_minor": 2
}
